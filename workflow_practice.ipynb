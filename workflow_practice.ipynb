{
 "cells": [
  {
   "cell_type": "markdown",
   "id": "e000d4dd",
   "metadata": {},
   "source": [
    "\n",
    "# Workflow Practice\n",
    "\n",
    "In this notebook, you’ll practice connecting to a SQLite database, creating tables from CSV files using Pandas, and writing SQL queries to explore the data.\n",
    "\n",
    "The dataset comes from the [Bike Store Sample Database](https://www.kaggle.com/datasets/dillonmyrick/bike-store-sample-database) by Dillon Myrick. It models a fictional bike retailer with multiple stores, products, customers, and staff. Each table connects to others using foreign keys such as `customer_id`, `store_id`, and `product_id`.\n",
    "\n",
    "You’ll:\n",
    "- Connect to a local SQLite database\n",
    "- Create tables using `pandas.to_sql()`\n",
    "- Write and test SQL queries using `pd.read_sql()`\n",
    "\n",
    "All of your work will take place directly in this notebook. Each question prompt is written below as a Markdown cell, followed by an empty code cell for you to write your query.\n"
   ]
  },
  {
   "cell_type": "code",
   "execution_count": null,
   "id": "c99780b0",
   "metadata": {},
   "outputs": [],
   "source": []
  },
  {
   "cell_type": "markdown",
   "id": "add7b115",
   "metadata": {},
   "source": [
    "\n",
    "## Step 1: Connect to the Database\n",
    "\n",
    "Run the following cell to connect to (or create) a SQLite database called `bike_store.db`.  \n",
    "If the file doesn’t exist yet, SQLite will automatically create it.\n"
   ]
  },
  {
   "cell_type": "code",
   "execution_count": 1,
   "id": "60c456b9",
   "metadata": {},
   "outputs": [],
   "source": [
    "import sqlite3\n",
    "import pandas as pd"
   ]
  },
  {
   "cell_type": "code",
   "execution_count": 2,
   "id": "037392cc",
   "metadata": {},
   "outputs": [
    {
     "data": {
      "text/plain": [
       "<sqlite3.Connection at 0x1109ed120>"
      ]
     },
     "execution_count": 2,
     "metadata": {},
     "output_type": "execute_result"
    }
   ],
   "source": [
    "connection = sqlite3.connect(\"bike_store.db\")\n",
    "connection"
   ]
  },
  {
   "cell_type": "markdown",
   "id": "4489dd99",
   "metadata": {},
   "source": [
    "\n",
    "## Step 2: Create Tables from CSV Files\n",
    "\n",
    "The `data/` folder contains one CSV file per table.  \n",
    "Use `pandas.read_csv()` and `DataFrame.to_sql()` to load each file into your database.\n",
    "\n",
    "You only need to do this once.  \n",
    "After that, you’ll be able to run queries against your newly created tables.\n"
   ]
  },
  {
   "cell_type": "code",
   "execution_count": 3,
   "id": "3b768a75",
   "metadata": {},
   "outputs": [
    {
     "data": {
      "text/plain": [
       "1445"
      ]
     },
     "execution_count": 3,
     "metadata": {},
     "output_type": "execute_result"
    }
   ],
   "source": [
    "# Example for one file\n",
    "customers = pd.read_csv(\"data/customers.csv\")\n",
    "customers.to_sql(\"customers\", connection, if_exists=\"replace\", index=False)"
   ]
  },
  {
   "cell_type": "code",
   "execution_count": 4,
   "id": "5d0c0318",
   "metadata": {},
   "outputs": [
    {
     "data": {
      "text/plain": [
       "9"
      ]
     },
     "execution_count": 4,
     "metadata": {},
     "output_type": "execute_result"
    }
   ],
   "source": [
    "brands = pd.read_csv(\"data/brands.csv\")\n",
    "brands.to_sql(\"brands\", connection, if_exists=\"replace\", index=False)"
   ]
  },
  {
   "cell_type": "code",
   "execution_count": 5,
   "id": "03963a14",
   "metadata": {},
   "outputs": [
    {
     "data": {
      "text/plain": [
       "7"
      ]
     },
     "execution_count": 5,
     "metadata": {},
     "output_type": "execute_result"
    }
   ],
   "source": [
    "categories = pd.read_csv(\"data/categories.csv\")\n",
    "categories.to_sql(\"categories\", connection, if_exists=\"replace\", index=False)"
   ]
  },
  {
   "cell_type": "code",
   "execution_count": 6,
   "id": "e19559fe",
   "metadata": {},
   "outputs": [
    {
     "data": {
      "text/plain": [
       "4722"
      ]
     },
     "execution_count": 6,
     "metadata": {},
     "output_type": "execute_result"
    }
   ],
   "source": [
    "order_items = pd.read_csv(\"data/order_items.csv\")\n",
    "order_items.to_sql(\"order_items\", connection, if_exists=\"replace\", index=False)"
   ]
  },
  {
   "cell_type": "code",
   "execution_count": 7,
   "id": "549a342f",
   "metadata": {},
   "outputs": [
    {
     "data": {
      "text/plain": [
       "1615"
      ]
     },
     "execution_count": 7,
     "metadata": {},
     "output_type": "execute_result"
    }
   ],
   "source": [
    "orders = pd.read_csv(\"data/orders.csv\")\n",
    "orders.to_sql(\"orders\", connection, if_exists=\"replace\", index=False)"
   ]
  },
  {
   "cell_type": "code",
   "execution_count": 8,
   "id": "8075827b",
   "metadata": {},
   "outputs": [
    {
     "data": {
      "text/plain": [
       "321"
      ]
     },
     "execution_count": 8,
     "metadata": {},
     "output_type": "execute_result"
    }
   ],
   "source": [
    "products = pd.read_csv(\"data/products.csv\")\n",
    "products.to_sql(\"products\", connection, if_exists=\"replace\", index=False)"
   ]
  },
  {
   "cell_type": "code",
   "execution_count": 9,
   "id": "c2eecac1",
   "metadata": {},
   "outputs": [
    {
     "data": {
      "text/plain": [
       "10"
      ]
     },
     "execution_count": 9,
     "metadata": {},
     "output_type": "execute_result"
    }
   ],
   "source": [
    "staffs = pd.read_csv(\"data/staffs.csv\")\n",
    "staffs.to_sql(\"staffs\", connection, if_exists=\"replace\", index=False)"
   ]
  },
  {
   "cell_type": "code",
   "execution_count": 10,
   "id": "1b6bfbea",
   "metadata": {},
   "outputs": [
    {
     "data": {
      "text/plain": [
       "939"
      ]
     },
     "execution_count": 10,
     "metadata": {},
     "output_type": "execute_result"
    }
   ],
   "source": [
    "stocks= pd.read_csv(\"data/stocks.csv\")\n",
    "stocks.to_sql(\"stocks\", connection, if_exists=\"replace\", index=False)"
   ]
  },
  {
   "cell_type": "code",
   "execution_count": 11,
   "id": "ebc22f1f",
   "metadata": {},
   "outputs": [
    {
     "data": {
      "text/plain": [
       "3"
      ]
     },
     "execution_count": 11,
     "metadata": {},
     "output_type": "execute_result"
    }
   ],
   "source": [
    "stores = pd.read_csv(\"data/stores.csv\")\n",
    "stores.to_sql(\"stores\", connection, if_exists=\"replace\", index=False)"
   ]
  },
  {
   "cell_type": "code",
   "execution_count": null,
   "id": "0f3573be",
   "metadata": {},
   "outputs": [],
   "source": [
    "\n"
   ]
  },
  {
   "cell_type": "markdown",
   "id": "ac539a94",
   "metadata": {},
   "source": [
    "### Verify Your Tables\n",
    "\n",
    "Run a query to make sure your tables were created successfully."
   ]
  },
  {
   "cell_type": "code",
   "execution_count": 12,
   "id": "e568988b",
   "metadata": {},
   "outputs": [
    {
     "data": {
      "text/html": [
       "<div>\n",
       "<style scoped>\n",
       "    .dataframe tbody tr th:only-of-type {\n",
       "        vertical-align: middle;\n",
       "    }\n",
       "\n",
       "    .dataframe tbody tr th {\n",
       "        vertical-align: top;\n",
       "    }\n",
       "\n",
       "    .dataframe thead th {\n",
       "        text-align: right;\n",
       "    }\n",
       "</style>\n",
       "<table border=\"1\" class=\"dataframe\">\n",
       "  <thead>\n",
       "    <tr style=\"text-align: right;\">\n",
       "      <th></th>\n",
       "      <th>name</th>\n",
       "    </tr>\n",
       "  </thead>\n",
       "  <tbody>\n",
       "    <tr>\n",
       "      <th>0</th>\n",
       "      <td>customers</td>\n",
       "    </tr>\n",
       "    <tr>\n",
       "      <th>1</th>\n",
       "      <td>brands</td>\n",
       "    </tr>\n",
       "    <tr>\n",
       "      <th>2</th>\n",
       "      <td>categories</td>\n",
       "    </tr>\n",
       "    <tr>\n",
       "      <th>3</th>\n",
       "      <td>order_items</td>\n",
       "    </tr>\n",
       "    <tr>\n",
       "      <th>4</th>\n",
       "      <td>orders</td>\n",
       "    </tr>\n",
       "    <tr>\n",
       "      <th>5</th>\n",
       "      <td>products</td>\n",
       "    </tr>\n",
       "    <tr>\n",
       "      <th>6</th>\n",
       "      <td>staffs</td>\n",
       "    </tr>\n",
       "    <tr>\n",
       "      <th>7</th>\n",
       "      <td>stocks</td>\n",
       "    </tr>\n",
       "    <tr>\n",
       "      <th>8</th>\n",
       "      <td>stores</td>\n",
       "    </tr>\n",
       "  </tbody>\n",
       "</table>\n",
       "</div>"
      ],
      "text/plain": [
       "          name\n",
       "0    customers\n",
       "1       brands\n",
       "2   categories\n",
       "3  order_items\n",
       "4       orders\n",
       "5     products\n",
       "6       staffs\n",
       "7       stocks\n",
       "8       stores"
      ]
     },
     "execution_count": 12,
     "metadata": {},
     "output_type": "execute_result"
    }
   ],
   "source": [
    "\n",
    "pd.read_sql(\"SELECT name FROM sqlite_master WHERE type='table';\", connection)\n"
   ]
  },
  {
   "cell_type": "markdown",
   "id": "75b6f1c1",
   "metadata": {},
   "source": [
    "## Step 3: Test a Simple Query\n",
    "\n",
    "Before starting the exercises, confirm your connection and tables are working by previewing the first few rows of the `customers` table."
   ]
  },
  {
   "cell_type": "code",
   "execution_count": 13,
   "id": "ea060534",
   "metadata": {},
   "outputs": [
    {
     "data": {
      "text/html": [
       "<div>\n",
       "<style scoped>\n",
       "    .dataframe tbody tr th:only-of-type {\n",
       "        vertical-align: middle;\n",
       "    }\n",
       "\n",
       "    .dataframe tbody tr th {\n",
       "        vertical-align: top;\n",
       "    }\n",
       "\n",
       "    .dataframe thead th {\n",
       "        text-align: right;\n",
       "    }\n",
       "</style>\n",
       "<table border=\"1\" class=\"dataframe\">\n",
       "  <thead>\n",
       "    <tr style=\"text-align: right;\">\n",
       "      <th></th>\n",
       "      <th>customer_id</th>\n",
       "      <th>first_name</th>\n",
       "      <th>last_name</th>\n",
       "      <th>phone</th>\n",
       "      <th>email</th>\n",
       "      <th>street</th>\n",
       "      <th>city</th>\n",
       "      <th>state</th>\n",
       "      <th>zip_code</th>\n",
       "    </tr>\n",
       "  </thead>\n",
       "  <tbody>\n",
       "    <tr>\n",
       "      <th>0</th>\n",
       "      <td>1</td>\n",
       "      <td>Debra</td>\n",
       "      <td>Burks</td>\n",
       "      <td>None</td>\n",
       "      <td>debra.burks@yahoo.com</td>\n",
       "      <td>9273 Thorne Ave.</td>\n",
       "      <td>Orchard Park</td>\n",
       "      <td>NY</td>\n",
       "      <td>14127</td>\n",
       "    </tr>\n",
       "    <tr>\n",
       "      <th>1</th>\n",
       "      <td>2</td>\n",
       "      <td>Kasha</td>\n",
       "      <td>Todd</td>\n",
       "      <td>None</td>\n",
       "      <td>kasha.todd@yahoo.com</td>\n",
       "      <td>910 Vine Street</td>\n",
       "      <td>Campbell</td>\n",
       "      <td>CA</td>\n",
       "      <td>95008</td>\n",
       "    </tr>\n",
       "    <tr>\n",
       "      <th>2</th>\n",
       "      <td>3</td>\n",
       "      <td>Tameka</td>\n",
       "      <td>Fisher</td>\n",
       "      <td>None</td>\n",
       "      <td>tameka.fisher@aol.com</td>\n",
       "      <td>769C Honey Creek St.</td>\n",
       "      <td>Redondo Beach</td>\n",
       "      <td>CA</td>\n",
       "      <td>90278</td>\n",
       "    </tr>\n",
       "    <tr>\n",
       "      <th>3</th>\n",
       "      <td>4</td>\n",
       "      <td>Daryl</td>\n",
       "      <td>Spence</td>\n",
       "      <td>None</td>\n",
       "      <td>daryl.spence@aol.com</td>\n",
       "      <td>988 Pearl Lane</td>\n",
       "      <td>Uniondale</td>\n",
       "      <td>NY</td>\n",
       "      <td>11553</td>\n",
       "    </tr>\n",
       "    <tr>\n",
       "      <th>4</th>\n",
       "      <td>5</td>\n",
       "      <td>Charolette</td>\n",
       "      <td>Rice</td>\n",
       "      <td>(916) 381-6003</td>\n",
       "      <td>charolette.rice@msn.com</td>\n",
       "      <td>107 River Dr.</td>\n",
       "      <td>Sacramento</td>\n",
       "      <td>CA</td>\n",
       "      <td>95820</td>\n",
       "    </tr>\n",
       "  </tbody>\n",
       "</table>\n",
       "</div>"
      ],
      "text/plain": [
       "   customer_id  first_name last_name           phone                    email  \\\n",
       "0            1       Debra     Burks            None    debra.burks@yahoo.com   \n",
       "1            2       Kasha      Todd            None     kasha.todd@yahoo.com   \n",
       "2            3      Tameka    Fisher            None    tameka.fisher@aol.com   \n",
       "3            4       Daryl    Spence            None     daryl.spence@aol.com   \n",
       "4            5  Charolette      Rice  (916) 381-6003  charolette.rice@msn.com   \n",
       "\n",
       "                  street           city state  zip_code  \n",
       "0      9273 Thorne Ave.    Orchard Park    NY     14127  \n",
       "1       910 Vine Street        Campbell    CA     95008  \n",
       "2  769C Honey Creek St.   Redondo Beach    CA     90278  \n",
       "3        988 Pearl Lane       Uniondale    NY     11553  \n",
       "4         107 River Dr.      Sacramento    CA     95820  "
      ]
     },
     "execution_count": 13,
     "metadata": {},
     "output_type": "execute_result"
    }
   ],
   "source": [
    "\n",
    "pd.read_sql(\"SELECT * FROM customers LIMIT 5;\", connection)\n"
   ]
  },
  {
   "cell_type": "markdown",
   "id": "cc482b0e",
   "metadata": {},
   "source": [
    "### Q1. List all customers and their cities.\n",
    "\n",
    "Return the first name, last name, and city of each customer. Sort alphabetically by last name and then by first name."
   ]
  },
  {
   "cell_type": "code",
   "execution_count": null,
   "id": "a1a8715e",
   "metadata": {},
   "outputs": [],
   "source": [
    "# Your query here"
   ]
  },
  {
   "cell_type": "markdown",
   "id": "d41b3f09",
   "metadata": {},
   "source": [
    "### Q2. Show all products and their prices.\n",
    "\n",
    "Display each product name along with its list price. Sort by price in descending order."
   ]
  },
  {
   "cell_type": "code",
   "execution_count": null,
   "id": "3917207d",
   "metadata": {},
   "outputs": [],
   "source": [
    "# Your query here"
   ]
  },
  {
   "cell_type": "markdown",
   "id": "82c12eab",
   "metadata": {},
   "source": [
    "### Q3. Find all customers from California.\n",
    "\n",
    "Return first name, last name, city, and state for all customers whose state is 'CA'. Sort alphabetically by last name."
   ]
  },
  {
   "cell_type": "code",
   "execution_count": null,
   "id": "4d14e73b",
   "metadata": {},
   "outputs": [],
   "source": [
    "# Your query here"
   ]
  },
  {
   "cell_type": "markdown",
   "id": "a17d84bc",
   "metadata": {},
   "source": [
    "### Q4. Count how many products are in each category.\n",
    "\n",
    "Return the category name and the number of products in that category. Sort from the highest count to the lowest."
   ]
  },
  {
   "cell_type": "code",
   "execution_count": null,
   "id": "b56ebade",
   "metadata": {},
   "outputs": [],
   "source": [
    "# Your query here"
   ]
  },
  {
   "cell_type": "markdown",
   "id": "31c51ad9",
   "metadata": {},
   "source": [
    "### Q5. Find all orders placed in 2018.\n",
    "\n",
    "List the order ID, order date, and customer ID for orders made during the year 2018. Sort by order date."
   ]
  },
  {
   "cell_type": "code",
   "execution_count": null,
   "id": "85b52651",
   "metadata": {},
   "outputs": [],
   "source": [
    "# Your query here"
   ]
  },
  {
   "cell_type": "markdown",
   "id": "33773e61",
   "metadata": {},
   "source": [
    "### Q6. Show each order with its total number of items.\n",
    "\n",
    "Join the `orders` and `order_items` tables. Group by order ID and return the number of items per order."
   ]
  },
  {
   "cell_type": "code",
   "execution_count": null,
   "id": "4598af04",
   "metadata": {},
   "outputs": [],
   "source": [
    "# Your query here"
   ]
  },
  {
   "cell_type": "markdown",
   "id": "cfc4e1e3",
   "metadata": {},
   "source": [
    "### Q7. List total revenue per store.\n",
    "\n",
    "Revenue = quantity * list_price * (1 - discount). Join `orders`, `order_items`, and `stores`, group by store name, and return total revenue."
   ]
  },
  {
   "cell_type": "code",
   "execution_count": null,
   "id": "ea2b6bcf",
   "metadata": {},
   "outputs": [],
   "source": [
    "# Your query here"
   ]
  },
  {
   "cell_type": "markdown",
   "id": "eede1c10",
   "metadata": {},
   "source": [
    "### Q8. Find the top 5 customers who spent the most overall.\n",
    "\n",
    "Join `customers`, `orders`, and `order_items`. Sum the total spending per customer and return the top five spenders."
   ]
  },
  {
   "cell_type": "code",
   "execution_count": null,
   "id": "66dffb1d",
   "metadata": {},
   "outputs": [],
   "source": [
    "# Your query here"
   ]
  },
  {
   "cell_type": "markdown",
   "id": "d827ad03",
   "metadata": {},
   "source": [
    "### Q9. Show the best-selling product in each category.\n",
    "\n",
    "Join `products`, `order_items`, and `categories`. For each category, identify the product with the highest total quantity sold."
   ]
  },
  {
   "cell_type": "code",
   "execution_count": null,
   "id": "55825b3b",
   "metadata": {},
   "outputs": [],
   "source": [
    "# Your query here"
   ]
  },
  {
   "cell_type": "markdown",
   "id": "4eed7dae",
   "metadata": {},
   "source": [
    "### Q10. Identify the employees (staff) who processed the most orders.\n",
    "\n",
    "Join `staffs` and `orders`. Count the number of orders handled by each staff member and return the results sorted by highest total."
   ]
  },
  {
   "cell_type": "code",
   "execution_count": null,
   "id": "632851b0",
   "metadata": {},
   "outputs": [],
   "source": [
    "# Your query here"
   ]
  }
 ],
 "metadata": {
  "kernelspec": {
   "display_name": "Python 3",
   "language": "python",
   "name": "python3"
  },
  "language_info": {
   "codemirror_mode": {
    "name": "ipython",
    "version": 3
   },
   "file_extension": ".py",
   "mimetype": "text/x-python",
   "name": "python",
   "nbconvert_exporter": "python",
   "pygments_lexer": "ipython3",
   "version": "3.13.5"
  }
 },
 "nbformat": 4,
 "nbformat_minor": 5
}
